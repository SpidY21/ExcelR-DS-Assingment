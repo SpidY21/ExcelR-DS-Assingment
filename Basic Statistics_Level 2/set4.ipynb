{
 "cells": [
  {
   "cell_type": "code",
   "execution_count": 1,
   "id": "5d6c24a6",
   "metadata": {},
   "outputs": [],
   "source": [
    "import pandas as pd\n",
    "import numpy as np\n",
    "import matplotlib.pyplot as plt\n",
    "import scipy.stats as stats\n",
    "import seaborn as sns\n",
    "import statsmodels.api as smf\n",
    "import warnings\n",
    "warnings.filterwarnings('ignore')"
   ]
  },
  {
   "cell_type": "markdown",
   "id": "426f185b",
   "metadata": {},
   "source": [
    "# SET 4"
   ]
  },
  {
   "cell_type": "markdown",
   "id": "39566afb",
   "metadata": {},
   "source": [
    "## Question 3"
   ]
  },
  {
   "cell_type": "markdown",
   "id": "a16ae8e9",
   "metadata": {},
   "source": [
    "3.Auditors at a small community bank randomly sample 100 withdrawal transactions made during the week at an ATM machine located near the bank’s main branch. Over the past 2 years, the average withdrawal amount has been $50 with a standard deviation of $40. Since audit investigations are typically expensive, the auditors decide to not initiate further investigations if the mean transaction amount of the sample is between $45 and $55. What is the probability that in any given week, there will be an investigation?\n",
    "\n",
    "A.1.25%\n",
    "B.2.5%\n",
    "C.10.55%\n",
    "D.21.1%\n",
    "50%"
   ]
  },
  {
   "cell_type": "code",
   "execution_count": 5,
   "id": "1e528a63",
   "metadata": {},
   "outputs": [
    {
     "name": "stdout",
     "output_type": "stream",
     "text": [
      "The probability that in any given week, there will be an investigation is 21.4 %\n"
     ]
    }
   ],
   "source": [
    "mean = 50\n",
    "std = 40\n",
    "n = 100\n",
    "d_f = 100 - 1\n",
    "t_forty_five = (45-50)/(40/np.sqrt(100))\n",
    "t_fifty_five = (55-50)/(40/np.sqrt(100))\n",
    "forty_five = stats.t.cdf(t_forty_five, df = d_f)\n",
    "fifty_five = stats.t.cdf(t_fifty_five, d_f)\n",
    "prob = fifty_five - forty_five\n",
    "np.round(stats.t.interval( df = d_f, loc = mean, scale = std/np.sqrt(n),confidence = 0.95))\n",
    "print('The probability that in any given week, there will be an investigation is',np.round((1-prob)*100,1),'%')"
   ]
  },
  {
   "cell_type": "markdown",
   "id": "be0bce74",
   "metadata": {},
   "source": [
    "## Quesion 4"
   ]
  },
  {
   "cell_type": "markdown",
   "id": "e187e8fc",
   "metadata": {},
   "source": [
    "4.The auditors from the above example would like to maintain the probability of investigation to 5%. Which of the following represents the minimum number transactions that they should sample if they do not want to change the thresholds of 45 and 55? Assume that the sample statistics remain unchanged.\n",
    "\n",
    "A.144\n",
    "B.150\n",
    "C.196"
   ]
  },
  {
   "cell_type": "code",
   "execution_count": 7,
   "id": "c1a77aa9",
   "metadata": {},
   "outputs": [
    {
     "name": "stdout",
     "output_type": "stream",
     "text": [
      "The Auditors would like to maintain the probability of investigation to 5%, they should sample 248.0 transactions if they do not want to change the thresholds of 45 to 55\n",
      "248.3776 247.3776\n"
     ]
    },
    {
     "data": {
      "text/plain": [
       "array([45., 55.])"
      ]
     },
     "execution_count": 7,
     "metadata": {},
     "output_type": "execute_result"
    }
   ],
   "source": [
    "x_bar = 45\n",
    "s_std = 40\n",
    "mew = 50\n",
    "t = np.round(stats.t.ppf(0.025, df = 249),2)\n",
    "t\n",
    "n = ((s_std*abs(t)) / (5))**2\n",
    "print('The Auditors would like to maintain the probability of investigation to 5%, they should sample',np.round(n,),'transactions if they do not want to change the thresholds of 45 to 55')\n",
    "df= n-1\n",
    "print(n, df)\n",
    "np.round(stats.t.interval(confidence = 0.95, df = df, loc = mew, scale = s_std/np.sqrt(n)),)"
   ]
  },
  {
   "cell_type": "code",
   "execution_count": null,
   "id": "cdb7087f",
   "metadata": {},
   "outputs": [],
   "source": []
  }
 ],
 "metadata": {
  "kernelspec": {
   "display_name": "Python 3 (ipykernel)",
   "language": "python",
   "name": "python3"
  },
  "language_info": {
   "codemirror_mode": {
    "name": "ipython",
    "version": 3
   },
   "file_extension": ".py",
   "mimetype": "text/x-python",
   "name": "python",
   "nbconvert_exporter": "python",
   "pygments_lexer": "ipython3",
   "version": "3.11.5"
  }
 },
 "nbformat": 4,
 "nbformat_minor": 5
}
